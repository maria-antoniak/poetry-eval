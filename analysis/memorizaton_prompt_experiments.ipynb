{
 "cells": [
  {
   "cell_type": "code",
   "execution_count": 17,
   "metadata": {},
   "outputs": [],
   "source": [
    "from collections import defaultdict\n",
    "from datetime import datetime\n",
    "import os\n",
    "import random\n",
    "\n",
    "import numpy as np\n",
    "import pandas as pd\n",
    "\n",
    "%matplotlib inline\n",
    "import matplotlib.pyplot as plt\n",
    "import seaborn as sns\n",
    "from matplotlib import ticker\n",
    "sns.set(style='ticks', font_scale=1.2)\n",
    "\n",
    "import openai"
   ]
  },
  {
   "cell_type": "code",
   "execution_count": 18,
   "metadata": {},
   "outputs": [],
   "source": [
    "openai.api_key = ''"
   ]
  },
  {
   "cell_type": "code",
   "execution_count": 2,
   "metadata": {},
   "outputs": [],
   "source": [
    "import warnings\n",
    "warnings.filterwarnings(\"ignore\", category=DeprecationWarning) \n",
    "warnings.filterwarnings(\"ignore\", category=FutureWarning) "
   ]
  },
  {
   "cell_type": "markdown",
   "metadata": {},
   "source": [
    "## **Load poetry data from Melanie** "
   ]
  },
  {
   "cell_type": "code",
   "execution_count": 4,
   "metadata": {},
   "outputs": [
    {
     "data": {
      "text/plain": [
       "3875"
      ]
     },
     "execution_count": 4,
     "metadata": {},
     "output_type": "execute_result"
    }
   ],
   "source": [
    "poems_df = pd.read_csv('')\n",
    "len(poems_df)"
   ]
  },
  {
   "cell_type": "code",
   "execution_count": 5,
   "metadata": {},
   "outputs": [
    {
     "data": {
      "text/html": [
       "<div>\n",
       "<style scoped>\n",
       "    .dataframe tbody tr th:only-of-type {\n",
       "        vertical-align: middle;\n",
       "    }\n",
       "\n",
       "    .dataframe tbody tr th {\n",
       "        vertical-align: top;\n",
       "    }\n",
       "\n",
       "    .dataframe thead th {\n",
       "        text-align: right;\n",
       "    }\n",
       "</style>\n",
       "<table border=\"1\" class=\"dataframe\">\n",
       "  <thead>\n",
       "    <tr style=\"text-align: right;\">\n",
       "      <th></th>\n",
       "      <th>messy_author</th>\n",
       "      <th>author</th>\n",
       "      <th>additional_authors</th>\n",
       "      <th>birth_death_dates</th>\n",
       "      <th>poem_title</th>\n",
       "      <th>poem_text</th>\n",
       "      <th>form</th>\n",
       "      <th>tags</th>\n",
       "      <th>poem_source</th>\n",
       "      <th>poem_link</th>\n",
       "      <th>...</th>\n",
       "      <th>birth_year</th>\n",
       "      <th>death_year</th>\n",
       "      <th>form_tags</th>\n",
       "      <th>theme_tags</th>\n",
       "      <th>occasion_tags</th>\n",
       "      <th>collected_from</th>\n",
       "      <th>also_appears_in_poetry_foundation</th>\n",
       "      <th>poem_title_lower</th>\n",
       "      <th>author_lower</th>\n",
       "      <th>form_group</th>\n",
       "    </tr>\n",
       "  </thead>\n",
       "  <tbody>\n",
       "    <tr>\n",
       "      <th>2094</th>\n",
       "      <td>By Mario Chard</td>\n",
       "      <td>Mario Chard</td>\n",
       "      <td>['By Mario Chard']</td>\n",
       "      <td>Unknown</td>\n",
       "      <td>The Ground</td>\n",
       "      <td>Say they still\\ntie ropes to the caskets\\nof i...</td>\n",
       "      <td>tercet</td>\n",
       "      <td>['Appeared in Poetry Magazine', 'Living', 'Dea...</td>\n",
       "      <td>Source:\\n                        Poetry\\n     ...</td>\n",
       "      <td>https://www.poetryfoundation.org/poetrymagazin...</td>\n",
       "      <td>...</td>\n",
       "      <td>NaN</td>\n",
       "      <td>NaN</td>\n",
       "      <td>NaN</td>\n",
       "      <td>NaN</td>\n",
       "      <td>NaN</td>\n",
       "      <td>Poetry Foundation</td>\n",
       "      <td>NaN</td>\n",
       "      <td>the ground</td>\n",
       "      <td>mario chard</td>\n",
       "      <td>stanza forms</td>\n",
       "    </tr>\n",
       "    <tr>\n",
       "      <th>1439</th>\n",
       "      <td>By David Lehman</td>\n",
       "      <td>David Lehman</td>\n",
       "      <td>['By David Lehman']</td>\n",
       "      <td>b. 1948</td>\n",
       "      <td>Mythologies</td>\n",
       "      <td>I.\\n  \\n The question is not how like the anim...</td>\n",
       "      <td>sonnet</td>\n",
       "      <td>['Living', 'Growing Old', 'Life Choices', 'The...</td>\n",
       "      <td>David Lehman, \"Mythologies\" from Operation Mem...</td>\n",
       "      <td>https://www.poetryfoundation.org/poems/54877/m...</td>\n",
       "      <td>...</td>\n",
       "      <td>NaN</td>\n",
       "      <td>NaN</td>\n",
       "      <td>NaN</td>\n",
       "      <td>NaN</td>\n",
       "      <td>NaN</td>\n",
       "      <td>Poetry Foundation</td>\n",
       "      <td>NaN</td>\n",
       "      <td>mythologies</td>\n",
       "      <td>david lehman</td>\n",
       "      <td>verse forms</td>\n",
       "    </tr>\n",
       "    <tr>\n",
       "      <th>2078</th>\n",
       "      <td>By Laurie Ann Guerrero</td>\n",
       "      <td>Laurie Ann Guerrero</td>\n",
       "      <td>['By Laurie Ann Guerrero']</td>\n",
       "      <td>Unknown</td>\n",
       "      <td>Brownies of the Southwest: Troop 704</td>\n",
       "      <td>Humanscape 62, 1970, by Melesio Casas\\n\\n\\n\\n\\...</td>\n",
       "      <td>tercet</td>\n",
       "      <td>['Appeared in Poetry Magazine', 'Living', 'Com...</td>\n",
       "      <td>You can read the rest of the PINTURA : PALABRA...</td>\n",
       "      <td>https://www.poetryfoundation.org/poetrymagazin...</td>\n",
       "      <td>...</td>\n",
       "      <td>NaN</td>\n",
       "      <td>NaN</td>\n",
       "      <td>NaN</td>\n",
       "      <td>NaN</td>\n",
       "      <td>NaN</td>\n",
       "      <td>Poetry Foundation</td>\n",
       "      <td>NaN</td>\n",
       "      <td>brownies of the southwest: troop 704</td>\n",
       "      <td>laurie ann guerrero</td>\n",
       "      <td>stanza forms</td>\n",
       "    </tr>\n",
       "  </tbody>\n",
       "</table>\n",
       "<p>3 rows × 22 columns</p>\n",
       "</div>"
      ],
      "text/plain": [
       "                messy_author               author          additional_authors  \\\n",
       "2094          By Mario Chard          Mario Chard          ['By Mario Chard']   \n",
       "1439         By David Lehman         David Lehman         ['By David Lehman']   \n",
       "2078  By Laurie Ann Guerrero  Laurie Ann Guerrero  ['By Laurie Ann Guerrero']   \n",
       "\n",
       "     birth_death_dates                            poem_title  \\\n",
       "2094           Unknown                            The Ground   \n",
       "1439           b. 1948                           Mythologies   \n",
       "2078           Unknown  Brownies of the Southwest: Troop 704   \n",
       "\n",
       "                                              poem_text    form  \\\n",
       "2094  Say they still\\ntie ropes to the caskets\\nof i...  tercet   \n",
       "1439  I.\\n  \\n The question is not how like the anim...  sonnet   \n",
       "2078  Humanscape 62, 1970, by Melesio Casas\\n\\n\\n\\n\\...  tercet   \n",
       "\n",
       "                                                   tags  \\\n",
       "2094  ['Appeared in Poetry Magazine', 'Living', 'Dea...   \n",
       "1439  ['Living', 'Growing Old', 'Life Choices', 'The...   \n",
       "2078  ['Appeared in Poetry Magazine', 'Living', 'Com...   \n",
       "\n",
       "                                            poem_source  \\\n",
       "2094  Source:\\n                        Poetry\\n     ...   \n",
       "1439  David Lehman, \"Mythologies\" from Operation Mem...   \n",
       "2078  You can read the rest of the PINTURA : PALABRA...   \n",
       "\n",
       "                                              poem_link  ... birth_year  \\\n",
       "2094  https://www.poetryfoundation.org/poetrymagazin...  ...        NaN   \n",
       "1439  https://www.poetryfoundation.org/poems/54877/m...  ...        NaN   \n",
       "2078  https://www.poetryfoundation.org/poetrymagazin...  ...        NaN   \n",
       "\n",
       "      death_year form_tags  theme_tags occasion_tags     collected_from  \\\n",
       "2094         NaN       NaN         NaN           NaN  Poetry Foundation   \n",
       "1439         NaN       NaN         NaN           NaN  Poetry Foundation   \n",
       "2078         NaN       NaN         NaN           NaN  Poetry Foundation   \n",
       "\n",
       "     also_appears_in_poetry_foundation                      poem_title_lower  \\\n",
       "2094                               NaN                            the ground   \n",
       "1439                               NaN                           mythologies   \n",
       "2078                               NaN  brownies of the southwest: troop 704   \n",
       "\n",
       "             author_lower    form_group  \n",
       "2094          mario chard  stanza forms  \n",
       "1439         david lehman   verse forms  \n",
       "2078  laurie ann guerrero  stanza forms  \n",
       "\n",
       "[3 rows x 22 columns]"
      ]
     },
     "execution_count": 5,
     "metadata": {},
     "output_type": "execute_result"
    }
   ],
   "source": [
    "poems_df.sample(3)"
   ]
  },
  {
   "cell_type": "code",
   "execution_count": 6,
   "metadata": {},
   "outputs": [
    {
     "data": {
      "text/plain": [
       "types/modes     1393\n",
       "verse forms     1193\n",
       "meters           708\n",
       "stanza forms     581\n",
       "Name: form_group, dtype: int64"
      ]
     },
     "execution_count": 6,
     "metadata": {},
     "output_type": "execute_result"
    }
   ],
   "source": [
    "poems_df['form_group'].value_counts(dropna=False)"
   ]
  },
  {
   "cell_type": "code",
   "execution_count": 7,
   "metadata": {},
   "outputs": [
    {
     "data": {
      "text/plain": [
       "Index(['messy_author', 'author', 'additional_authors', 'birth_death_dates',\n",
       "       'poem_title', 'poem_text', 'form', 'tags', 'poem_source', 'poem_link',\n",
       "       'author_link', 'pub_year', 'birth_year', 'death_year', 'form_tags',\n",
       "       'theme_tags', 'occasion_tags', 'collected_from',\n",
       "       'also_appears_in_poetry_foundation', 'poem_title_lower', 'author_lower',\n",
       "       'form_group'],\n",
       "      dtype='object')"
      ]
     },
     "execution_count": 7,
     "metadata": {},
     "output_type": "execute_result"
    }
   ],
   "source": [
    "poems_df.columns"
   ]
  },
  {
   "cell_type": "code",
   "execution_count": 8,
   "metadata": {},
   "outputs": [],
   "source": [
    "poems_df['poem_id'] = poems_df['poem_link'].apply(lambda x: '/'.join(x.split('/')[-2:]))"
   ]
  },
  {
   "cell_type": "code",
   "execution_count": 9,
   "metadata": {},
   "outputs": [
    {
     "data": {
      "text/plain": [
       "3692"
      ]
     },
     "execution_count": 9,
     "metadata": {},
     "output_type": "execute_result"
    }
   ],
   "source": [
    "len(poems_df['poem_id'].unique())"
   ]
  },
  {
   "cell_type": "code",
   "execution_count": 10,
   "metadata": {},
   "outputs": [
    {
     "data": {
      "text/plain": [
       "134459"
      ]
     },
     "execution_count": 10,
     "metadata": {},
     "output_type": "execute_result"
    }
   ],
   "source": [
    "line_dicts = []\n",
    "\n",
    "poem_dropped_dict = defaultdict(list)\n",
    "\n",
    "for i, r in poems_df.drop_duplicates(subset=['poem_id']).sample(frac=1).iterrows():\n",
    "\n",
    "    if not pd.isnull(r['poem_text']):\n",
    "\n",
    "        _lines = r['poem_text'].split('\\n')\n",
    "        \n",
    "        _line_num = 0\n",
    "\n",
    "        for _line in _lines:\n",
    "\n",
    "            if _line.strip() and len(_line.strip().split()) >= 4:\n",
    "\n",
    "                line_dicts.append({'line_id': r['poem_id'] + '_' + str(_line_num),\n",
    "                                   'poem_id': r['poem_id'],\n",
    "                                   'line_num': _line_num,\n",
    "                                   'text': _line.strip()})\n",
    "                                \n",
    "            elif _line.strip():\n",
    "\n",
    "                poem_dropped_dict[r['poem_id']].append(_line.strip())\n",
    "            \n",
    "            _line_num += 1\n",
    "            \n",
    "line_df = pd.DataFrame(line_dicts)\n",
    "len(line_df.index)"
   ]
  },
  {
   "cell_type": "code",
   "execution_count": 11,
   "metadata": {},
   "outputs": [
    {
     "data": {
      "text/plain": [
       "3684"
      ]
     },
     "execution_count": 11,
     "metadata": {},
     "output_type": "execute_result"
    }
   ],
   "source": [
    "len(line_df['poem_id'].unique())"
   ]
  },
  {
   "cell_type": "code",
   "execution_count": 12,
   "metadata": {},
   "outputs": [
    {
     "data": {
      "text/plain": [
       "(7.980225988700565, 3.0, 18.31244533606086, 398)"
      ]
     },
     "execution_count": 12,
     "metadata": {},
     "output_type": "execute_result"
    }
   ],
   "source": [
    "dropped_list = [len(_ids) for _ids in poem_dropped_dict.values()]\n",
    "\n",
    "np.mean(dropped_list), np.median(dropped_list), np.std(dropped_list), np.max(dropped_list)"
   ]
  },
  {
   "cell_type": "code",
   "execution_count": 13,
   "metadata": {},
   "outputs": [
    {
     "name": "stdout",
     "output_type": "stream",
     "text": [
      "(from Macbeth)\n"
     ]
    }
   ],
   "source": [
    "for _poem, _dropped in random.sample(poem_dropped_dict.items(), 1):\n",
    "    for d in _dropped:\n",
    "        print(d) "
   ]
  },
  {
   "cell_type": "code",
   "execution_count": 14,
   "metadata": {},
   "outputs": [
    {
     "data": {
      "text/html": [
       "<div>\n",
       "<style scoped>\n",
       "    .dataframe tbody tr th:only-of-type {\n",
       "        vertical-align: middle;\n",
       "    }\n",
       "\n",
       "    .dataframe tbody tr th {\n",
       "        vertical-align: top;\n",
       "    }\n",
       "\n",
       "    .dataframe thead th {\n",
       "        text-align: right;\n",
       "    }\n",
       "</style>\n",
       "<table border=\"1\" class=\"dataframe\">\n",
       "  <thead>\n",
       "    <tr style=\"text-align: right;\">\n",
       "      <th></th>\n",
       "      <th>line_id</th>\n",
       "      <th>poem_id</th>\n",
       "      <th>line_num</th>\n",
       "      <th>text</th>\n",
       "    </tr>\n",
       "  </thead>\n",
       "  <tbody>\n",
       "    <tr>\n",
       "      <th>0</th>\n",
       "      <td>poem/sonnet-laughing-below-unimagined-room_0</td>\n",
       "      <td>poem/sonnet-laughing-below-unimagined-room</td>\n",
       "      <td>0</td>\n",
       "      <td>Laughing below, the unimagined room</td>\n",
       "    </tr>\n",
       "    <tr>\n",
       "      <th>1</th>\n",
       "      <td>poem/sonnet-laughing-below-unimagined-room_1</td>\n",
       "      <td>poem/sonnet-laughing-below-unimagined-room</td>\n",
       "      <td>1</td>\n",
       "      <td>in unimagined mouths, a turning mood</td>\n",
       "    </tr>\n",
       "    <tr>\n",
       "      <th>2</th>\n",
       "      <td>poem/sonnet-laughing-below-unimagined-room_2</td>\n",
       "      <td>poem/sonnet-laughing-below-unimagined-room</td>\n",
       "      <td>2</td>\n",
       "      <td>speaking itself the way a fulling should</td>\n",
       "    </tr>\n",
       "  </tbody>\n",
       "</table>\n",
       "</div>"
      ],
      "text/plain": [
       "                                        line_id  \\\n",
       "0  poem/sonnet-laughing-below-unimagined-room_0   \n",
       "1  poem/sonnet-laughing-below-unimagined-room_1   \n",
       "2  poem/sonnet-laughing-below-unimagined-room_2   \n",
       "\n",
       "                                      poem_id  line_num  \\\n",
       "0  poem/sonnet-laughing-below-unimagined-room         0   \n",
       "1  poem/sonnet-laughing-below-unimagined-room         1   \n",
       "2  poem/sonnet-laughing-below-unimagined-room         2   \n",
       "\n",
       "                                       text  \n",
       "0       Laughing below, the unimagined room  \n",
       "1      in unimagined mouths, a turning mood  \n",
       "2  speaking itself the way a fulling should  "
      ]
     },
     "execution_count": 14,
     "metadata": {},
     "output_type": "execute_result"
    }
   ],
   "source": [
    "line_df.head(3)"
   ]
  },
  {
   "cell_type": "code",
   "execution_count": 15,
   "metadata": {},
   "outputs": [],
   "source": [
    "# line_df.to_csv('/Users/mariaa/Documents/data/poetry/lines_for_wimbd.csv') # Don't re-run because it will shuffle!"
   ]
  },
  {
   "cell_type": "code",
   "execution_count": 16,
   "metadata": {},
   "outputs": [
    {
     "data": {
      "text/plain": [
       "134459"
      ]
     },
     "execution_count": 16,
     "metadata": {},
     "output_type": "execute_result"
    }
   ],
   "source": [
    "len(line_df.index)"
   ]
  },
  {
   "cell_type": "code",
   "execution_count": 4,
   "metadata": {},
   "outputs": [
    {
     "data": {
      "text/plain": [
       "134459"
      ]
     },
     "execution_count": 4,
     "metadata": {},
     "output_type": "execute_result"
    }
   ],
   "source": [
    "line_df = pd.read_csv('/Users/mariaa/Documents/data/poetry/lines_for_wimbd.csv')\n",
    "len(line_df.index)"
   ]
  },
  {
   "cell_type": "code",
   "execution_count": 5,
   "metadata": {},
   "outputs": [
    {
     "data": {
      "text/plain": [
       "(8.440625023241285, 7.0, 14.027444228161551, 4, 1678)"
      ]
     },
     "execution_count": 5,
     "metadata": {},
     "output_type": "execute_result"
    }
   ],
   "source": [
    "line_lengths = [len(r['text'].split()) for i, r in line_df.iterrows()]\n",
    "\n",
    "np.mean(line_lengths), np.median(line_lengths), np.std(line_lengths), np.min(line_lengths), np.max(line_lengths)"
   ]
  },
  {
   "cell_type": "markdown",
   "metadata": {},
   "source": [
    "## **Test query**"
   ]
  },
  {
   "cell_type": "code",
   "execution_count": 30,
   "metadata": {},
   "outputs": [
    {
     "name": "stdout",
     "output_type": "stream",
     "text": [
      "What are the next five lines of the poem \"A Little Called Pauline\" by Gertrude Stein?\n",
      "\n",
      "First Line: \"A little called anything shows shudders.\"\n",
      "\n",
      "Next Lines:\n",
      "\n",
      "POEM ID: 52610/a-little-called-pauline\n",
      "FIRST LINE: A little called anything shows shudders.\n",
      "ANSWER: \"Come and say what prints all day. \n",
      "A whole few watermelon. \n",
      "There is no pope. \n",
      "No cut in pennies and little dressing and choose wide soles \n",
      "And little spats really little spices.\"\n",
      "\n",
      "What are the next five lines of the poem \"first time\" by Reina María Rodríguez?\n",
      "\n",
      "First Line: \"we went into a market—they call it a grocery—and you can’t imagine. fruit brilliant as magazine photos. all kinds of\"\n",
      "\n",
      "Next Lines:\n",
      "\n",
      "POEM ID: 54757/first-time\n",
      "FIRST LINE: we went into a market—they call it a grocery—and you can’t imagine. fruit brilliant as magazine photos. all kinds of\n",
      "ANSWER: \"meats on perfect display, cooked, raw, or cured. Fresh picked vegetables, nature's vibrant tableau,\n",
      "flowers from each season; a paradise of consumer's lure. Every aisle, an orchestrated symphony,\n",
      "the checkout line ringing its methodic tune. Your awe-filled eyes, reflecting an abundance yet to explore.\"\n",
      "\n",
      "What are the next five lines of the poem \"Child of a Day\" by Walter Savage Landor?\n",
      "\n",
      "First Line: \"Child of a day, thou knowest not\"\n",
      "\n",
      "Next Lines:\n",
      "\n",
      "POEM ID: 44559/child-of-a-day\n",
      "FIRST LINE: Child of a day, thou knowest not\n",
      "ANSWER: The region of delight,\n",
      "The name thou bear'st, the snares to thee\n",
      "That kind a parent may prepare,\n",
      "Or human love in aught may share\n",
      "With early, insidious spite.\n",
      "\n"
     ]
    }
   ],
   "source": [
    "for i, r in poems_df.sample(3).iterrows():\n",
    "\n",
    "    _lines = r['poem_text'].split('\\n')\n",
    "    _lines = [' '.join(l.split()[:20]) for l in _lines if len(l.split()) >= 4]\n",
    "\n",
    "    _first_line = _lines[0]\n",
    "        \n",
    "    _prompt = 'What are the next five lines of the poem \"' + r['poem_title'].strip() + '\" by ' + r['author'].strip() + '?\\n\\nFirst Line: \"' + _first_line + '\"\\n\\nNext Lines:'\n",
    "\n",
    "    print(_prompt)\n",
    "    print() \n",
    "    \n",
    "    _response = openai.ChatCompletion.create(model=\"gpt-4\",\n",
    "                                             messages=[{\"role\": \"user\", \"content\": _prompt}])\n",
    "    _answer = _response['choices'][0]['message']['content']\n",
    "    \n",
    "    print('POEM ID:', r['poem_id'])\n",
    "    print('FIRST LINE:', _first_line)\n",
    "    print('ANSWER:', _answer)\n",
    "    print()"
   ]
  },
  {
   "cell_type": "code",
   "execution_count": 23,
   "metadata": {},
   "outputs": [
    {
     "data": {
      "text/plain": [
       "3875"
      ]
     },
     "execution_count": 23,
     "metadata": {},
     "output_type": "execute_result"
    }
   ],
   "source": [
    "len(poems_df.index)"
   ]
  },
  {
   "cell_type": "markdown",
   "metadata": {},
   "source": [
    "## **Run over all the poems**"
   ]
  },
  {
   "cell_type": "code",
   "execution_count": 24,
   "metadata": {},
   "outputs": [],
   "source": [
    "output_directory_path = ''"
   ]
  },
  {
   "cell_type": "code",
   "execution_count": 38,
   "metadata": {},
   "outputs": [
    {
     "data": {
      "text/plain": [
       "3875"
      ]
     },
     "execution_count": 38,
     "metadata": {},
     "output_type": "execute_result"
    }
   ],
   "source": [
    "poems_df = pd.read_csv(output_directory_path + '/poems_shuffled_for_memorization_tests.csv')\n",
    "len(poems_df)"
   ]
  },
  {
   "cell_type": "code",
   "execution_count": 42,
   "metadata": {},
   "outputs": [
    {
     "name": "stdout",
     "output_type": "stream",
     "text": [
      "2024-06-15 18:12:48.262109 \t 8\n",
      "2024-06-15 18:13:46.359671 \t 9\n",
      "2024-06-15 18:14:49.359606 \t 10\n",
      "2024-06-15 18:15:34.527942 \t 11\n",
      "2024-06-15 18:16:24.193544 \t 12\n",
      "2024-06-15 18:17:21.691108 \t 13\n",
      "2024-06-15 18:18:16.772158 \t 14\n",
      "2024-06-15 18:19:08.180615 \t 15\n",
      "2024-06-15 18:19:54.113080 \t 16\n",
      "2024-06-15 18:20:47.004253 \t 17\n",
      "2024-06-15 18:21:33.414526 \t 18\n",
      "2024-06-15 18:22:19.548377 \t 19\n",
      "2024-06-15 18:23:08.722719 \t 20\n",
      "2024-06-15 18:24:02.651407 \t 21\n",
      "2024-06-15 18:24:56.086522 \t 22\n",
      "2024-06-15 18:25:49.605689 \t 23\n",
      "2024-06-15 18:26:47.823787 \t 24\n",
      "2024-06-15 18:27:45.994241 \t 25\n",
      "2024-06-15 18:28:32.769932 \t 26\n",
      "2024-06-15 18:29:24.842457 \t 27\n",
      "2024-06-15 18:30:22.250071 \t 28\n",
      "2024-06-15 18:31:12.629921 \t 29\n",
      "2024-06-15 18:32:03.133431 \t 30\n",
      "2024-06-15 18:32:52.402385 \t 31\n",
      "2024-06-15 18:33:45.886908 \t 32\n",
      "2024-06-15 18:34:46.689713 \t 33\n",
      "2024-06-15 18:35:53.642660 \t 34\n",
      "2024-06-15 18:36:51.985400 \t 35\n",
      "2024-06-15 18:37:45.228193 \t 36\n",
      "2024-06-15 18:38:36.627516 \t 37\n",
      "2024-06-15 18:39:30.696122 \t 38\n",
      "2024-06-15 18:40:23.254429 \t 39\n",
      "2024-06-15 18:41:12.895397 \t 40\n",
      "2024-06-15 18:42:03.543223 \t 41\n",
      "2024-06-15 18:42:50.632428 \t 42\n",
      "2024-06-15 18:43:35.710557 \t 43\n",
      "2024-06-15 18:44:35.115826 \t 44\n",
      "2024-06-15 18:45:24.195189 \t 45\n",
      "2024-06-15 18:46:14.828294 \t 46\n",
      "2024-06-15 18:47:04.038385 \t 47\n",
      "2024-06-15 18:47:54.220840 \t 48\n",
      "2024-06-15 18:48:42.498837 \t 49\n",
      "2024-06-15 18:49:33.779683 \t 50\n",
      "2024-06-15 18:50:17.748958 \t 51\n",
      "2024-06-15 18:51:04.398981 \t 52\n",
      "2024-06-15 18:51:52.240709 \t 53\n",
      "2024-06-15 18:52:40.584858 \t 54\n",
      "2024-06-15 18:53:27.019363 \t 55\n",
      "2024-06-15 18:54:05.340884 \t 56\n",
      "2024-06-15 18:54:49.656679 \t 57\n",
      "2024-06-15 18:55:36.077310 \t 58\n",
      "2024-06-15 18:56:21.338604 \t 59\n",
      "2024-06-15 18:57:10.277332 \t 60\n",
      "2024-06-15 18:57:58.211622 \t 61\n",
      "2024-06-15 18:58:46.241301 \t 62\n",
      "2024-06-15 18:59:35.457175 \t 63\n",
      "2024-06-15 19:00:31.753313 \t 64\n",
      "2024-06-15 19:01:27.047027 \t 65\n",
      "2024-06-15 19:02:12.510034 \t 66\n",
      "2024-06-15 19:03:00.338196 \t 67\n",
      "2024-06-15 19:03:47.293434 \t 68\n",
      "2024-06-15 19:04:42.806323 \t 69\n",
      "2024-06-15 19:05:29.985135 \t 70\n",
      "2024-06-15 19:06:17.806374 \t 71\n",
      "2024-06-15 19:07:13.629461 \t 72\n",
      "2024-06-15 19:08:07.144647 \t 73\n",
      "2024-06-15 19:08:56.214088 \t 74\n",
      "2024-06-15 19:09:58.245426 \t 75\n",
      "2024-06-15 19:10:51.391842 \t 76\n",
      "2024-06-15 19:11:43.415021 \t 77\n",
      "2024-06-15 19:12:36.866489 \t 78\n",
      "2024-06-15 19:13:25.847156 \t 79\n",
      "2024-06-15 19:14:15.990339 \t 80\n",
      "2024-06-15 19:15:04.938182 \t 81\n",
      "2024-06-15 19:15:57.077143 \t 82\n",
      "2024-06-15 19:16:44.662027 \t 83\n",
      "2024-06-15 19:17:35.688240 \t 84\n",
      "2024-06-15 19:18:31.995699 \t 85\n",
      "2024-06-15 19:19:14.607336 \t 86\n",
      "2024-06-15 19:20:00.462829 \t 87\n",
      "2024-06-15 19:20:45.633118 \t 88\n",
      "2024-06-15 19:21:30.946949 \t 89\n",
      "2024-06-15 19:22:26.055805 \t 90\n",
      "2024-06-15 19:23:12.632472 \t 91\n",
      "2024-06-15 19:23:59.632830 \t 92\n",
      "2024-06-15 19:24:47.921889 \t 93\n",
      "2024-06-15 19:25:32.970682 \t 94\n",
      "2024-06-15 19:26:18.906741 \t 95\n",
      "2024-06-15 19:27:04.288154 \t 96\n",
      "2024-06-15 19:27:52.697554 \t 97\n",
      "2024-06-15 19:28:37.916800 \t 98\n",
      "2024-06-15 19:29:25.301367 \t 99\n",
      "2024-06-15 19:30:20.229623 \t 100\n",
      "2024-06-15 19:31:11.272139 \t 101\n",
      "2024-06-15 19:32:06.031629 \t 102\n",
      "2024-06-15 19:32:50.599096 \t 103\n",
      "2024-06-15 19:33:37.810135 \t 104\n",
      "2024-06-15 19:34:25.484730 \t 105\n",
      "2024-06-15 19:35:15.212042 \t 106\n",
      "2024-06-15 19:35:58.827780 \t 107\n",
      "2024-06-15 19:36:46.126281 \t 108\n",
      "2024-06-15 19:37:32.210767 \t 109\n",
      "2024-06-15 19:38:19.676476 \t 110\n",
      "2024-06-15 19:39:00.619050 \t 111\n",
      "2024-06-15 19:39:47.795079 \t 112\n",
      "2024-06-15 19:40:30.215810 \t 113\n",
      "2024-06-15 19:41:26.993033 \t 114\n",
      "2024-06-15 19:42:06.176608 \t 115\n",
      "2024-06-15 19:42:59.556112 \t 116\n",
      "2024-06-15 19:43:55.634110 \t 117\n",
      "2024-06-15 19:44:43.028928 \t 118\n",
      "2024-06-15 19:45:29.923227 \t 119\n",
      "2024-06-15 19:46:14.934416 \t 120\n",
      "2024-06-15 19:47:05.083869 \t 121\n",
      "2024-06-15 19:47:51.970632 \t 122\n",
      "2024-06-15 19:48:37.196415 \t 123\n",
      "2024-06-15 19:49:23.995154 \t 124\n",
      "2024-06-15 19:50:11.513899 \t 125\n",
      "2024-06-15 19:50:51.922456 \t 126\n",
      "2024-06-15 19:51:47.972553 \t 127\n",
      "2024-06-15 19:52:40.839265 \t 128\n",
      "2024-06-15 19:53:28.307997 \t 129\n",
      "2024-06-15 19:54:21.851217 \t 130\n",
      "2024-06-15 19:55:13.901787 \t 131\n",
      "2024-06-15 19:56:09.647616 \t 132\n",
      "2024-06-15 19:56:53.129266 \t 133\n",
      "2024-06-15 19:57:37.680314 \t 134\n",
      "2024-06-15 19:58:20.784683 \t 135\n",
      "2024-06-15 19:59:02.600396 \t 136\n",
      "2024-06-15 19:59:48.375762 \t 137\n",
      "2024-06-15 20:00:35.066721 \t 138\n",
      "2024-06-15 20:01:25.003018 \t 139\n",
      "2024-06-15 20:02:07.054673 \t 140\n",
      "2024-06-15 20:03:07.754920 \t 141\n",
      "2024-06-15 20:04:07.560677 \t 142\n",
      "2024-06-15 20:04:54.675519 \t 143\n",
      "2024-06-15 20:05:48.241326 \t 144\n",
      "2024-06-15 20:06:40.552155 \t 145\n",
      "2024-06-15 20:07:26.982500 \t 146\n",
      "2024-06-15 20:08:14.360004 \t 147\n",
      "2024-06-15 20:09:01.701216 \t 148\n",
      "2024-06-15 20:09:49.171664 \t 149\n",
      "2024-06-15 20:10:37.098407 \t 150\n",
      "2024-06-15 20:11:30.141415 \t 151\n",
      "2024-06-15 20:12:20.700901 \t 152\n",
      "2024-06-15 20:13:11.113071 \t 153\n",
      "2024-06-15 20:13:53.704921 \t 154\n",
      "2024-06-15 20:14:48.736349 \t 155\n",
      "2024-06-15 20:15:36.489289 \t 156\n",
      "2024-06-15 20:16:26.031772 \t 157\n",
      "2024-06-15 20:17:16.835041 \t 158\n",
      "2024-06-15 20:18:03.199367 \t 159\n",
      "2024-06-15 20:18:57.900305 \t 160\n",
      "2024-06-15 20:19:43.523493 \t 161\n",
      "2024-06-15 20:20:29.041464 \t 162\n",
      "2024-06-15 20:21:10.833670 \t 163\n",
      "2024-06-15 20:22:06.723400 \t 164\n",
      "2024-06-15 20:22:55.681146 \t 165\n",
      "2024-06-15 20:23:48.336318 \t 166\n",
      "2024-06-15 20:24:42.075148 \t 167\n",
      "2024-06-15 20:25:35.484157 \t 168\n",
      "2024-06-15 20:26:19.146786 \t 169\n",
      "2024-06-15 20:27:12.195207 \t 170\n",
      "2024-06-15 20:27:53.084894 \t 171\n",
      "2024-06-15 20:28:49.517885 \t 172\n",
      "2024-06-15 20:29:39.675550 \t 173\n",
      "2024-06-15 20:30:22.402098 \t 174\n",
      "2024-06-15 20:31:17.447094 \t 175\n",
      "2024-06-15 20:32:14.074008 \t 176\n",
      "2024-06-15 20:33:08.349431 \t 177\n",
      "2024-06-15 20:33:55.494440 \t 178\n",
      "2024-06-15 20:34:48.470853 \t 179\n",
      "2024-06-15 20:35:39.392777 \t 180\n",
      "2024-06-15 20:36:29.327855 \t 181\n",
      "2024-06-15 20:37:19.436581 \t 182\n",
      "2024-06-15 20:38:04.238016 \t 183\n",
      "2024-06-15 20:38:47.604640 \t 184\n",
      "2024-06-15 20:39:32.540071 \t 185\n",
      "2024-06-15 20:40:17.582346 \t 186\n",
      "2024-06-15 20:41:06.971775 \t 187\n",
      "2024-06-15 20:41:49.538726 \t 188\n",
      "2024-06-15 20:42:38.512837 \t 189\n",
      "2024-06-15 20:43:25.519312 \t 190\n",
      "2024-06-15 20:44:15.074673 \t 191\n",
      "2024-06-15 20:45:13.047197 \t 192\n",
      "2024-06-15 20:46:04.647943 \t 193\n",
      "2024-06-15 20:46:56.035031 \t 194\n",
      "2024-06-15 20:47:40.315431 \t 195\n",
      "2024-06-15 20:48:25.348359 \t 196\n",
      "2024-06-15 20:49:12.847907 \t 197\n",
      "2024-06-15 20:50:00.683089 \t 198\n",
      "2024-06-15 20:51:05.432625 \t 199\n"
     ]
    }
   ],
   "source": [
    "df_list = np.array_split(poems_df, 200)\n",
    "\n",
    "for j, _df in enumerate(df_list):\n",
    "\n",
    "    if not os.path.exists(output_directory_path + '/gpt4.next_five_lines.' + str(j) + '.csv'):\n",
    "\n",
    "        print(datetime.now(), '\\t', j)\n",
    "\n",
    "        _output_dicts = []\n",
    "\n",
    "        for i, r in _df.iterrows():\n",
    "\n",
    "            _lines = r['poem_text'].split('\\n')\n",
    "            _lines = [' '.join(l.split()[:20]) for l in _lines if len(l.split()) >= 4]\n",
    "\n",
    "            if _lines:\n",
    "                _first_line = _lines[0]\n",
    "                    \n",
    "                _prompt = 'What are the next five lines of the poem \"' + r['poem_title'].strip() + '\" by ' + r['author'].strip() + '?\\n\\nFirst Line: \"' + _first_line + '\"\\n\\nNext Lines:'\n",
    "\n",
    "                _response = openai.ChatCompletion.create(model=\"gpt-4\",\n",
    "                                                        messages=[{\"role\": \"user\", \"content\": _prompt}])\n",
    "                _answer = _response['choices'][0]['message']['content']\n",
    "        \n",
    "                _output_dicts.append({'poem': r['poem_id'],\n",
    "                                      'poem_text': r['poem_text'][:200],\n",
    "                                      'first_lines': _first_line,\n",
    "                                      'answer': _answer})\n",
    "\n",
    "        _output_df = pd.DataFrame(_output_dicts)\n",
    "        _output_df.to_csv(output_directory_path + '/gpt4.next_five_lines.' + str(j) + '.csv')"
   ]
  },
  {
   "cell_type": "code",
   "execution_count": null,
   "metadata": {},
   "outputs": [],
   "source": []
  }
 ],
 "metadata": {
  "kernelspec": {
   "display_name": "wimbd",
   "language": "python",
   "name": "python3"
  },
  "language_info": {
   "codemirror_mode": {
    "name": "ipython",
    "version": 3
   },
   "file_extension": ".py",
   "mimetype": "text/x-python",
   "name": "python",
   "nbconvert_exporter": "python",
   "pygments_lexer": "ipython3",
   "version": "3.9.16"
  }
 },
 "nbformat": 4,
 "nbformat_minor": 2
}
