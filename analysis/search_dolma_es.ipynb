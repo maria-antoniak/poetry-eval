{
 "cells": [
  {
   "cell_type": "code",
   "execution_count": 1,
   "metadata": {},
   "outputs": [],
   "source": [
    "from collections import defaultdict\n",
    "from datetime import datetime\n",
    "import os\n",
    "import random\n",
    "\n",
    "import numpy as np\n",
    "import pandas as pd\n",
    "\n",
    "%matplotlib inline\n",
    "import matplotlib.pyplot as plt\n",
    "import seaborn as sns\n",
    "from matplotlib import ticker\n",
    "sns.set(style='ticks', font_scale=1.2)"
   ]
  },
  {
   "cell_type": "code",
   "execution_count": 2,
   "metadata": {},
   "outputs": [],
   "source": [
    "import warnings\n",
    "warnings.filterwarnings(\"ignore\", category=DeprecationWarning) \n",
    "warnings.filterwarnings(\"ignore\", category=FutureWarning) "
   ]
  },
  {
   "cell_type": "code",
   "execution_count": 3,
   "metadata": {},
   "outputs": [],
   "source": [
    "from wimbd.es import es_init\n",
    "from wimbd.es import count_documents_containing_phrases\n",
    "from wimbd.es import get_documents_containing_phrases"
   ]
  },
  {
   "cell_type": "markdown",
   "metadata": {},
   "source": [
    "## **Test WIMBD**"
   ]
  },
  {
   "cell_type": "code",
   "execution_count": 4,
   "metadata": {},
   "outputs": [],
   "source": [
    "es = es_init(config='es_config.yml')"
   ]
  },
  {
   "cell_type": "code",
   "execution_count": 5,
   "metadata": {},
   "outputs": [
    {
     "data": {
      "text/plain": [
       "6985853"
      ]
     },
     "execution_count": 5,
     "metadata": {},
     "output_type": "execute_result"
    }
   ],
   "source": [
    "count_documents_containing_phrases(\"docs_v1.5_2023-11-02\", [\"terms of use\", \"legally binding\"])  # list of word sequences"
   ]
  },
  {
   "cell_type": "code",
   "execution_count": 6,
   "metadata": {},
   "outputs": [
    {
     "name": "stdout",
     "output_type": "stream",
     "text": [
      "{'_index': 'docs_v1.5_2023-11-02', '_id': 'afeb9477761ac823d2f30debfa0a92e3', '_score': 33.279945, '_source': {'id': 'afeb9477761ac823d2f30debfa0a92e3', 'dolma_id': 'b93de148eee0e9afe996e1d71d458a93', 'archive': 's3://ai2-llm/pretraining-data/sources/olmo-mix/v1_5/documents/c4/c4-0018.json.gz', 'line': 842670, 'source': 'c4', 'title': 'William Shakespeare online - William Shakespeare Sonnet…', 'snippet': 'William Shakespeare online - William Shakespeare Sonnet 151 Love is too young to know what conscience is. Famous William Shakespeare love poem known as Shakespearean Sonnet 151 Love is too young to know what conscience is. Famous Shakespearean sonnet, or short poem, entitled William Shakespeare…', 'text': 'William Shakespeare online - William Shakespeare Sonnet 151 Love is too young to know what conscience is. Famous William Shakespeare love poem known as Shakespearean Sonnet 151 Love is too young to know what conscience is. Famous Shakespearean sonnet, or short poem, entitled William Shakespeare Sonnet 151 Love is too young to know what conscience is.', 'word_count': 56, 'metadata': {'lang': 'en', 'length': 61, 'split': 'train', 'url': 'http://www.william-shakespeare.info/william-shakespeare-sonnet-151.htm'}, 'url': 'http://www.william-shakespeare.info/william-shakespeare-sonnet-151.htm', 'domain': 'www.william-shakespeare.info', 'added': '2023-04-05T08:53:30.999000+00:00', 'created': '2019-04-24T18:01:09+00:00'}}\n",
      "{'_index': 'docs_v1.5_2023-11-02', '_id': 'b4f1b4d76a9c30c49e879f46074e855a', '_score': 30.034252, '_source': {'id': 'b4f1b4d76a9c30c49e879f46074e855a', 'dolma_id': 'https://engpoetry.com/isaac-watts/hymn-144/', 'archive': 's3://ai2-llm/pretraining-data/sources/olmo-mix/v1_5/documents/cc_en_middle/cc_en_middle-0314.json.gz', 'line': 815305, 'source': 'common-crawl', 'title': 'The witnessing and sealing Spirit. Rom. 8:14,16; Eph…', 'snippet': 'The witnessing and sealing Spirit. Rom. 8:14,16; Eph. 1:13,14. Go mourning all their days? Some tokens of thy grace. And seal the heirs of heav’n? And show my sins forgiv’n? That I am born of God. Will safe convey me home. This Living Hand This living hand, now warm and capable Of earnest…', 'text': \"The witnessing and sealing Spirit.\\nRom. 8:14,16; Eph. 1:13,14.\\nGo mourning all their days?\\nSome tokens of thy grace.\\nAnd seal the heirs of heav’n?\\nAnd show my sins forgiv’n?\\nThat I am born of God.\\nWill safe convey me home.\\nThis Living Hand This living hand, now warm and capable Of earnest grasping, would, if it were cold And in the icy silence […]...\\nHymn 61 Christ our High Priest and King. Rev. 1:5-7. Now to the Lord, that makes us know The wonders of his […]...\\nA Hymn To Christ At The Author's Last Going Into Germany In what torn ship soever I embark, That ship shall be my emblem of thy Ark; What sea soever swallow […]...\\nHymn 68 The banquet of love. SS 2:1-4,6,7. Behold the Rose of Sharon here, The Lily which the valleys bear; Behold the […]...\\nConscience Conscience is instinct bred in the house, Feeling and Thinking propagate the sin By an unnatural breeding in and in. […]...\\nSonnet 151: Love is too young to know what conscience is Love is too young to know what conscience is; Yet who knows not conscience is born of love? Then, gentle […]...\\nSonnet CLI Love is too young to know what conscience is; Yet who knows not conscience is born of love? Then, gentle […]...\\nHymn 38 part 1 The atonement of Christ. Rom. 3:25. How is our nature spoiled by sin! Yet nature ne’er hath found The way […]...\\n\", 'word_count': 246, 'metadata': {'bucket': 'middle', 'cc_segment': 'crawl-data/CC-MAIN-2020-40/segments/1600400193087.0/wet/CC-MAIN-20200920000137-20200920030137-00614.warc.wet.gz', 'date_download': '2020-09-20T01:38:26Z', 'digest': 'sha1:FR5HUH6UW36N2SCVOWVVP6S42WHHYOHD', 'language': 'en', 'language_score': 0.85, 'length': 3162, 'line_ids': [5, 7, 8, 9, 10, 11, 12, 13, 14, 15, 16, 17, 18, 19, 20, 21, 22, 23, 24, 27, 28, 29, 30, 31, 32, 33, 34, 35, 36, 38, 39, 40, 41, 42, 43, 44, 45, 46, 47, 48, 49], 'nlines': 41, 'original_length': 3603, 'original_nlines': 56, 'perplexity': 446.2, 'source_domain': 'engpoetry.com', 'title': 'Hymn 144 by Isaac Watts', 'url': 'https://engpoetry.com/isaac-watts/hymn-144/'}, 'url': 'https://engpoetry.com/isaac-watts/hymn-144/', 'domain': 'engpoetry.com', 'added': '2023-04-05T06:08:43.407984+00:00', 'created': '2020-09-20T01:38:26+00:00'}}\n",
      "{'_index': 'docs_v1.5_2023-11-02', '_id': 'a59f667bad2a61c651fbf162084877b6', '_score': 28.948309, '_source': {'id': 'a59f667bad2a61c651fbf162084877b6', 'dolma_id': 'https://engpoetry.com/czeslaw-milosz/love-9/', 'archive': 's3://ai2-llm/pretraining-data/sources/olmo-mix/v1_5/documents/cc_en_middle/cc_en_middle-0193.json.gz', 'line': 654069, 'source': 'common-crawl', 'title': \"WHO'LL BUY GODS OF LOVE? OF all the beauteous wares…\", 'snippet': \"WHO'LL BUY GODS OF LOVE? OF all the beauteous wares Exposed for sale at fairs, None will give more delight Than those that to your […]... I Will Not Fight I will not fight: though proud of pith I hold no one worth striving with; And should resentment burn my […]... Free Love By all means they try…\", 'text': \"WHO'LL BUY GODS OF LOVE? OF all the beauteous wares Exposed for sale at fairs, None will give more delight Than those that to your […]...\\nI Will Not Fight I will not fight: though proud of pith I hold no one worth striving with; And should resentment burn my […]...\\nFree Love By all means they try to hold me secure who love me in this world. But it is otherwise with […]...\\nRipeness With peace and rest And wisdom sage, Ripeness is best Of every age. With hands that fold In pensive prayer, […]...\\nLove's Coming She had looked for his coming as warriors come, With the clash of arms and the bugle’s call; But he […]...\\nSyrinx Like the foghorn that’s all lung, The wind chime that’s all percussion, Like the wind itself, that’s merely air In […]...\\nSonnet 151: Love is too young to know what conscience is Love is too young to know what conscience is; Yet who knows not conscience is born of love? Then, gentle […]...\\n\", 'word_count': 174, 'metadata': {'bucket': 'middle', 'cc_segment': 'crawl-data/CC-MAIN-2020-24/segments/1590347396495.25/wet/CC-MAIN-20200528030851-20200528060851-00257.warc.wet.gz', 'date_download': '2020-05-28T03:53:12Z', 'digest': 'sha1:CUPJOSU5SMFNBIOTERJ3N3JWZABCXQV5', 'language': 'en', 'language_score': 0.92, 'length': 4732, 'line_ids': [5, 7, 8, 9, 10, 11, 12, 13, 14, 15, 16, 19, 20, 21, 22, 23, 24, 25, 26, 27, 28, 29, 30, 31, 32, 33, 34, 35, 38, 39, 40, 42, 43, 44, 45, 47, 49, 50, 51, 52, 53, 56, 58, 59, 60, 61], 'nlines': 46, 'original_length': 6280, 'original_nlines': 68, 'perplexity': 396.0, 'source_domain': 'engpoetry.com', 'title': 'Love by Czeslaw Milosz', 'url': 'https://engpoetry.com/czeslaw-milosz/love-9/'}, 'url': 'https://engpoetry.com/czeslaw-milosz/love-9/', 'domain': 'engpoetry.com', 'added': '2023-04-06T13:34:57.707147+00:00', 'created': '2020-05-28T03:53:12+00:00'}}\n",
      "{'_index': 'docs_v1.5_2023-11-02', '_id': 'df9635cdea51888f2467caccb17a311a', '_score': 28.702183, '_source': {'id': 'df9635cdea51888f2467caccb17a311a', 'dolma_id': 'https://www.quote-coyote.com/quotes/authors/s/william-shakespeare/quote-7421.html', 'archive': 's3://ai2-llm/pretraining-data/sources/olmo-mix/v1_5/documents/cc_en_tail/cc_en_tail-1382.json.gz', 'line': 478295, 'source': 'common-crawl', 'title': '\"Love is too young to know what conscience is. \" ', 'snippet': '\"Love is too young to know what conscience is. \" ', 'text': '\"Love is too young to know what conscience is. \"\\n', 'word_count': 11, 'metadata': {'bucket': 'tail', 'cc_segment': 'crawl-data/CC-MAIN-2022-49/segments/1669446710534.53/wet/CC-MAIN-20221128171516-20221128201516-00571.warc.wet.gz', 'date_download': '2022-11-28T19:50:42Z', 'digest': 'sha1:7PHHSH7EHNFXGY3GRFSHVM2NQ2RLU5PN', 'language': 'en', 'language_score': 0.9, 'length': 388, 'line_ids': [13, 14, 15, 16, 17, 18, 19, 20, 21], 'nlines': 9, 'original_length': 1194, 'original_nlines': 36, 'perplexity': 675.9, 'source_domain': 'www.quote-coyote.com', 'title': 'William Shakespeare - \"Love is too young to know what conscie...\"', 'url': 'https://www.quote-coyote.com/quotes/authors/s/william-shakespeare/quote-7421.html'}, 'url': 'https://www.quote-coyote.com/quotes/authors/s/william-shakespeare/quote-7421.html', 'domain': 'www.quote-coyote.com', 'added': '2023-03-22T09:26:07.473068+00:00', 'created': '2022-11-28T19:50:42+00:00'}}\n",
      "{'_index': 'docs_v1.5_2023-11-02', '_id': '362071f268535c22889f1bb0009f9d24', '_score': 27.78157, '_source': {'id': '362071f268535c22889f1bb0009f9d24', 'dolma_id': 'http://poesias.ru/foreign-stihi/shekspir-soneti/shekspir10455.shtml', 'archive': 's3://ai2-llm/pretraining-data/sources/olmo-mix/v1_5/documents/cc_en_tail/cc_en_tail-0886.json.gz', 'line': 1245261, 'source': 'common-crawl', 'title': '\"V-3 sonnet CXLIX\" O, from what power hast thou this…', 'snippet': '\"V-3 sonnet CXLIX\" O, from what power hast thou this powerful might With insufficiency m... Love is too young to know what conscience is; Yet who knows not consc...', 'text': '\"V-3 sonnet CXLIX\"\\nO, from what power hast thou this powerful might With insufficiency m...\\nLove is too young to know what conscience is; Yet who knows not consc...', 'word_count': 29, 'metadata': {'bucket': 'tail', 'cc_segment': 'crawl-data/CC-MAIN-2021-21/segments/1620243991870.70/wet/CC-MAIN-20210517211550-20210518001550-00335.warc.wet.gz', 'date_download': '2021-05-17T21:35:59Z', 'digest': 'sha1:JOERR46XBI2D5O5BWPBSDDVAOOF6FAC2', 'language': 'en', 'language_score': 0.68, 'length': 916, 'line_ids': [6, 8, 9, 10, 11, 12, 13, 14, 15, 16, 17, 18, 19, 20, 21, 22, 23, 24, 27, 28, 30], 'nlines': 21, 'original_length': 2136, 'original_nlines': 54, 'perplexity': 1919.1, 'source_domain': 'poesias.ru', 'title': 'Сонеты Шекспир Уильям «V-3 sonnet CXLIX» - ( Canst thou, O cruel! say I love th...)', 'url': 'http://poesias.ru/foreign-stihi/shekspir-soneti/shekspir10455.shtml'}, 'url': 'http://poesias.ru/foreign-stihi/shekspir-soneti/shekspir10455.shtml', 'domain': 'poesias.ru', 'added': '2023-04-01T10:25:38.392319+00:00', 'created': '2021-05-17T21:35:59+00:00'}}\n",
      "{'_index': 'docs_v1.5_2023-11-02', '_id': '489dd138951d4596b9cf51fe7ec8d639', '_score': 27.74178, '_source': {'id': '489dd138951d4596b9cf51fe7ec8d639', 'dolma_id': 'http://poesias.ru/foreign-stihi/shekspir-soneti/shekspir10456.shtml', 'archive': 's3://ai2-llm/pretraining-data/sources/olmo-mix/v1_5/documents/cc_en_tail/cc_en_tail-0877.json.gz', 'line': 647449, 'source': 'common-crawl', 'title': '\"V-3 sonnet CL\" Love is too young to know what conscience…', 'snippet': '\"V-3 sonnet CL\" Love is too young to know what conscience is; Yet who knows not consc... In loving thee thou know\\'st I am forsworn, But thou art twice forswor...', 'text': '\"V-3 sonnet CL\"\\nLove is too young to know what conscience is; Yet who knows not consc...\\nIn loving thee thou know\\'st I am forsworn, But thou art twice forswor...', 'word_count': 30, 'metadata': {'bucket': 'tail', 'cc_segment': 'crawl-data/CC-MAIN-2021-21/segments/1620243991537.32/wet/CC-MAIN-20210513045934-20210513075934-00528.warc.wet.gz', 'date_download': '2021-05-13T07:11:18Z', 'digest': 'sha1:AWK6S5KN6LWQNBVNHZ44PL5ROCQN3LDC', 'language': 'en', 'language_score': 0.72, 'length': 948, 'line_ids': [6, 8, 9, 10, 11, 12, 13, 14, 15, 16, 17, 18, 19, 20, 21, 22, 23, 24, 27, 28, 29, 30], 'nlines': 22, 'original_length': 2150, 'original_nlines': 54, 'perplexity': 1982.2, 'source_domain': 'poesias.ru', 'title': 'Сонеты Шекспир Уильям «V-3 sonnet CL» - ( O, from what power hast thou this ...)', 'url': 'http://poesias.ru/foreign-stihi/shekspir-soneti/shekspir10456.shtml'}, 'url': 'http://poesias.ru/foreign-stihi/shekspir-soneti/shekspir10456.shtml', 'domain': 'poesias.ru', 'added': '2023-04-01T05:15:42.419370+00:00', 'created': '2021-05-13T07:11:18+00:00'}}\n",
      "{'_index': 'docs_v1.5_2023-11-02', '_id': 'b2fc9f10f33f02ead3cca6667dfa941e', '_score': 27.740917, '_source': {'id': 'b2fc9f10f33f02ead3cca6667dfa941e', 'dolma_id': 'http://bquot.es/en/quotes.php?id=3901', 'archive': 's3://ai2-llm/pretraining-data/sources/olmo-mix/v1_5/documents/cc_en_head/cc_en_head-0304.json.gz', 'line': 479470, 'source': 'common-crawl', 'title': 'Grief and sadness knits two hearts in closer bonds that…', 'snippet': 'Grief and sadness knits two hearts in closer bonds that happiness ever can; and common sufferings are far stronger than common joys. Love is too young to know what conscience is. ', 'text': 'Grief and sadness knits two hearts in closer bonds that happiness ever can; and common sufferings are far stronger than common joys.\\nLove is too young to know what conscience is.\\n', 'word_count': 32, 'metadata': {'bucket': 'head', 'cc_segment': 'crawl-data/CC-MAIN-2020-50/segments/1606141743438.76/wet/CC-MAIN-20201204193220-20201204223220-00100.warc.wet.gz', 'date_download': '2020-12-04T20:28:09Z', 'digest': 'sha1:7K63UHYKGDYJ7LF5ZSJUDAXXTAUA2EU3', 'language': 'en', 'language_score': 0.97, 'length': 1459, 'line_ids': [6, 9, 13, 15, 17, 19, 21, 25, 27, 29, 31, 35, 39, 43, 45, 47, 49], 'nlines': 17, 'original_length': 2680, 'original_nlines': 69, 'perplexity': 310.5, 'source_domain': 'bquot.es', 'title': \"If you love somebody, let them go, for if they return, they were always yours. And if they don't, they never were.- Khalil Gibran\", 'url': 'http://bquot.es/en/quotes.php?id=3901'}, 'url': 'http://bquot.es/en/quotes.php?id=3901', 'domain': 'bquot.es', 'added': '2023-04-04T17:11:25.171922+00:00', 'created': '2020-12-04T20:28:09+00:00'}}\n",
      "{'_index': 'docs_v1.5_2023-11-02', '_id': '94bd16370cac33d686c9230b3906accc', '_score': 27.28767, '_source': {'id': '94bd16370cac33d686c9230b3906accc', 'dolma_id': 'https://www.rnz.co.nz/concert/programmes/will-shakespeare-450/audio/20149675/sonnet-no-51-thus-can-my-love-excuse-the-slow-offence', 'archive': 's3://ai2-llm/pretraining-data/sources/olmo-mix/v1_5/documents/cc_en_tail/cc_en_tail-0768.json.gz', 'line': 1187635, 'source': 'common-crawl', 'title': 'Sonnet No 154 : The little Love-god lying once asleep…', 'snippet': \"Sonnet No 154 : The little Love-god lying once asleep... Sonnet No 153: Cupid laid his brand, and fell asleep... Sonnet No 152: In loving thee thou know'st I am forsworn... Sonnet No 151: Love is too young to know what conscience is...\", 'text': \"Sonnet No 154 : The little Love-god lying once asleep...\\nSonnet No 153: Cupid laid his brand, and fell asleep...\\nSonnet No 152: In loving thee thou know'st I am forsworn...\\nSonnet No 151: Love is too young to know what conscience is...\", 'word_count': 43, 'metadata': {'bucket': 'tail', 'cc_segment': 'crawl-data/CC-MAIN-2021-10/segments/1614178385984.79/wet/CC-MAIN-20210309030723-20210309060723-00378.warc.wet.gz', 'date_download': '2021-03-09T04:25:59Z', 'digest': 'sha1:GZOWWINAZLTZUNAGIATXQ37CDRVZGHOL', 'language': 'en', 'language_score': 0.87, 'length': 1063, 'line_ids': [73, 74, 89, 90, 91, 92, 93, 94, 95, 96, 97, 98, 99, 100, 101, 102, 117, 119, 120, 121, 122, 125], 'nlines': 22, 'original_length': 3373, 'original_nlines': 162, 'perplexity': 1532.0, 'source_domain': 'www.rnz.co.nz', 'title': 'Sonnet No 51: Thus can my love excuse the slow offence | RNZ', 'url': 'https://www.rnz.co.nz/concert/programmes/will-shakespeare-450/audio/20149675/sonnet-no-51-thus-can-my-love-excuse-the-slow-offence'}, 'url': 'https://www.rnz.co.nz/concert/programmes/will-shakespeare-450/audio/20149675/sonnet-no-51-thus-can-my-love-excuse-the-slow-offence', 'domain': 'www.rnz.co.nz', 'added': '2023-04-02T20:57:33.922456+00:00', 'created': '2021-03-09T04:25:59+00:00'}}\n",
      "{'_index': 'docs_v1.5_2023-11-02', '_id': '3202bb1760698a96f5583201793ff85e', '_score': 27.286945, '_source': {'id': '3202bb1760698a96f5583201793ff85e', 'dolma_id': 'https://www.rnz.co.nz/concert/programmes/will-shakespeare-450/audio/20144812/sonnet-no-12-when-i-do-count-the-clock-that-tells-the-time', 'archive': 's3://ai2-llm/pretraining-data/sources/olmo-mix/v1_5/documents/cc_en_tail/cc_en_tail-0007.json.gz', 'line': 694730, 'source': 'common-crawl', 'title': 'Sonnet No 154 : The little Love-god lying once asleep…', 'snippet': \"Sonnet No 154 : The little Love-god lying once asleep... Sonnet No 153: Cupid laid his brand, and fell asleep... Sonnet No 152: In loving thee thou know'st I am forsworn... Sonnet No 151: Love is too young to know what conscience is...\", 'text': \"Sonnet No 154 : The little Love-god lying once asleep...\\nSonnet No 153: Cupid laid his brand, and fell asleep...\\nSonnet No 152: In loving thee thou know'st I am forsworn...\\nSonnet No 151: Love is too young to know what conscience is...\", 'word_count': 43, 'metadata': {'bucket': 'tail', 'cc_segment': 'crawl-data/CC-MAIN-2020-05/segments/1579250591763.20/wet/CC-MAIN-20200118023429-20200118051429-00117.warc.wet.gz', 'date_download': '2020-01-18T02:48:25Z', 'digest': 'sha1:HSZ7NMEAMMAJZEH245SX7ESW6PHLVMXD', 'language': 'en', 'language_score': 0.85, 'length': 1069, 'line_ids': [71, 72, 87, 88, 89, 90, 91, 92, 93, 94, 95, 96, 97, 98, 99, 100, 115, 117, 118, 119, 120, 123], 'nlines': 22, 'original_length': 3336, 'original_nlines': 160, 'perplexity': 1087.7, 'source_domain': 'www.rnz.co.nz', 'title': 'Sonnet No 12: When I do count the clock that tells the time | RNZ', 'url': 'https://www.rnz.co.nz/concert/programmes/will-shakespeare-450/audio/20144812/sonnet-no-12-when-i-do-count-the-clock-that-tells-the-time'}, 'url': 'https://www.rnz.co.nz/concert/programmes/will-shakespeare-450/audio/20144812/sonnet-no-12-when-i-do-count-the-clock-that-tells-the-time', 'domain': 'www.rnz.co.nz', 'added': '2023-04-11T10:57:53.073114+00:00', 'created': '2020-01-18T02:48:25+00:00'}}\n",
      "{'_index': 'docs_v1.5_2023-11-02', '_id': 'e9efe1669322780c548175dc55241aff', '_score': 27.284187, '_source': {'id': 'e9efe1669322780c548175dc55241aff', 'dolma_id': 'https://www.rnz.co.nz/concert/programmes/will-shakespeare-450/audio/20148807/sonnet-no-38-how-can-my-muse-want-subject-to-invent', 'archive': 's3://ai2-llm/pretraining-data/sources/olmo-mix/v1_5/documents/cc_en_tail/cc_en_tail-0039.json.gz', 'line': 401259, 'source': 'common-crawl', 'title': 'Sonnet No 154 : The little Love-god lying once asleep…', 'snippet': \"Sonnet No 154 : The little Love-god lying once asleep... Sonnet No 153: Cupid laid his brand, and fell asleep... Sonnet No 152: In loving thee thou know'st I am forsworn... Sonnet No 151: Love is too young to know what conscience is...\", 'text': \"Sonnet No 154 : The little Love-god lying once asleep...\\nSonnet No 153: Cupid laid his brand, and fell asleep...\\nSonnet No 152: In loving thee thou know'st I am forsworn...\\nSonnet No 151: Love is too young to know what conscience is...\", 'word_count': 43, 'metadata': {'bucket': 'tail', 'cc_segment': 'crawl-data/CC-MAIN-2020-05/segments/1579250599718.13/wet/CC-MAIN-20200120165335-20200120194335-00281.warc.wet.gz', 'date_download': '2020-01-20T17:23:57Z', 'digest': 'sha1:VGVPNTATP63M4N3JCHLQ7CBG2HMQTR52', 'language': 'en', 'language_score': 0.84, 'length': 1057, 'line_ids': [71, 72, 87, 88, 89, 90, 91, 92, 93, 94, 95, 96, 97, 98, 99, 100, 113, 115, 116, 117, 118, 121], 'nlines': 22, 'original_length': 3325, 'original_nlines': 158, 'perplexity': 1808.8, 'source_domain': 'www.rnz.co.nz', 'title': 'Sonnet No 38: How can my Muse want subject to invent | RNZ', 'url': 'https://www.rnz.co.nz/concert/programmes/will-shakespeare-450/audio/20148807/sonnet-no-38-how-can-my-muse-want-subject-to-invent'}, 'url': 'https://www.rnz.co.nz/concert/programmes/will-shakespeare-450/audio/20148807/sonnet-no-38-how-can-my-muse-want-subject-to-invent', 'domain': 'www.rnz.co.nz', 'added': '2023-04-11T17:23:05.197450+00:00', 'created': '2020-01-20T17:23:57+00:00'}}\n"
     ]
    }
   ],
   "source": [
    "for d in get_documents_containing_phrases(\"docs_v1.5_2023-11-02\", [\"Love is too young to know what conscience is\"]):\n",
    "    print(d)"
   ]
  },
  {
   "cell_type": "markdown",
   "metadata": {},
   "source": [
    "## **Load poetry data** "
   ]
  },
  {
   "cell_type": "code",
   "execution_count": 7,
   "metadata": {},
   "outputs": [
    {
     "data": {
      "text/plain": [
       "3875"
      ]
     },
     "execution_count": 7,
     "metadata": {},
     "output_type": "execute_result"
    }
   ],
   "source": [
    "poems_df = pd.read_csv('')\n",
    "len(poems_df)"
   ]
  },
  {
   "cell_type": "code",
   "execution_count": 24,
   "metadata": {},
   "outputs": [
    {
     "data": {
      "text/html": [
       "<div>\n",
       "<style scoped>\n",
       "    .dataframe tbody tr th:only-of-type {\n",
       "        vertical-align: middle;\n",
       "    }\n",
       "\n",
       "    .dataframe tbody tr th {\n",
       "        vertical-align: top;\n",
       "    }\n",
       "\n",
       "    .dataframe thead th {\n",
       "        text-align: right;\n",
       "    }\n",
       "</style>\n",
       "<table border=\"1\" class=\"dataframe\">\n",
       "  <thead>\n",
       "    <tr style=\"text-align: right;\">\n",
       "      <th></th>\n",
       "      <th>messy_author</th>\n",
       "      <th>author</th>\n",
       "      <th>additional_authors</th>\n",
       "      <th>birth_death_dates</th>\n",
       "      <th>poem_title</th>\n",
       "      <th>poem_text</th>\n",
       "      <th>form</th>\n",
       "      <th>tags</th>\n",
       "      <th>poem_source</th>\n",
       "      <th>poem_link</th>\n",
       "      <th>...</th>\n",
       "      <th>birth_year</th>\n",
       "      <th>death_year</th>\n",
       "      <th>form_tags</th>\n",
       "      <th>theme_tags</th>\n",
       "      <th>occasion_tags</th>\n",
       "      <th>collected_from</th>\n",
       "      <th>also_appears_in_poetry_foundation</th>\n",
       "      <th>poem_title_lower</th>\n",
       "      <th>author_lower</th>\n",
       "      <th>form_group</th>\n",
       "    </tr>\n",
       "  </thead>\n",
       "  <tbody>\n",
       "    <tr>\n",
       "      <th>2344</th>\n",
       "      <td>By William Butler Yeats</td>\n",
       "      <td>William Butler Yeats</td>\n",
       "      <td>['By William Butler Yeats']</td>\n",
       "      <td>1865–1939</td>\n",
       "      <td>Lapis Lazuli</td>\n",
       "      <td>(for Harry Clifton)\\n\\nI have heard that hyste...</td>\n",
       "      <td>aubade</td>\n",
       "      <td>['Arts &amp; Sciences', 'Poetry &amp; Poets', 'Mytholo...</td>\n",
       "      <td>W. B. Yeats, “Lapis Lazuli” from The Poems of ...</td>\n",
       "      <td>https://www.poetryfoundation.org/poems/43297/l...</td>\n",
       "      <td>...</td>\n",
       "      <td>NaN</td>\n",
       "      <td>NaN</td>\n",
       "      <td>NaN</td>\n",
       "      <td>NaN</td>\n",
       "      <td>NaN</td>\n",
       "      <td>Poetry Foundation</td>\n",
       "      <td>NaN</td>\n",
       "      <td>lapis lazuli</td>\n",
       "      <td>william butler yeats</td>\n",
       "      <td>types/modes</td>\n",
       "    </tr>\n",
       "    <tr>\n",
       "      <th>2106</th>\n",
       "      <td>By Henry Timrod</td>\n",
       "      <td>Henry Timrod</td>\n",
       "      <td>['By Henry Timrod']</td>\n",
       "      <td>1828–1867</td>\n",
       "      <td>Charleston</td>\n",
       "      <td>Calm as that second summer which precedes\\n   ...</td>\n",
       "      <td>quatrain</td>\n",
       "      <td>['Social Commentaries', 'History &amp; Politics', ...</td>\n",
       "      <td>Source:\\n                        “Words for th...</td>\n",
       "      <td>https://www.poetryfoundation.org/poems/55910/c...</td>\n",
       "      <td>...</td>\n",
       "      <td>NaN</td>\n",
       "      <td>NaN</td>\n",
       "      <td>NaN</td>\n",
       "      <td>NaN</td>\n",
       "      <td>NaN</td>\n",
       "      <td>Poetry Foundation</td>\n",
       "      <td>NaN</td>\n",
       "      <td>charleston</td>\n",
       "      <td>henry timrod</td>\n",
       "      <td>stanza forms</td>\n",
       "    </tr>\n",
       "    <tr>\n",
       "      <th>1417</th>\n",
       "      <td>By Geoffrey Hill</td>\n",
       "      <td>Geoffrey Hill</td>\n",
       "      <td>['By Geoffrey Hill']</td>\n",
       "      <td>1932–2016</td>\n",
       "      <td>An Apology for the Revival of Christian Archit...</td>\n",
       "      <td>the spiritual, Platonic old England …\\nS. T. C...</td>\n",
       "      <td>sonnet</td>\n",
       "      <td>['Religion', 'Christianity', 'Arts &amp; Sciences'...</td>\n",
       "      <td>Geoffrey Hill, “An Apology for the Revival of ...</td>\n",
       "      <td>https://www.poetryfoundation.org/poems/48462/a...</td>\n",
       "      <td>...</td>\n",
       "      <td>NaN</td>\n",
       "      <td>NaN</td>\n",
       "      <td>NaN</td>\n",
       "      <td>NaN</td>\n",
       "      <td>NaN</td>\n",
       "      <td>Poetry Foundation</td>\n",
       "      <td>NaN</td>\n",
       "      <td>an apology for the revival of christian archit...</td>\n",
       "      <td>geoffrey hill</td>\n",
       "      <td>verse forms</td>\n",
       "    </tr>\n",
       "  </tbody>\n",
       "</table>\n",
       "<p>3 rows × 22 columns</p>\n",
       "</div>"
      ],
      "text/plain": [
       "                 messy_author                author  \\\n",
       "2344  By William Butler Yeats  William Butler Yeats   \n",
       "2106          By Henry Timrod          Henry Timrod   \n",
       "1417         By Geoffrey Hill         Geoffrey Hill   \n",
       "\n",
       "               additional_authors birth_death_dates  \\\n",
       "2344  ['By William Butler Yeats']         1865–1939   \n",
       "2106          ['By Henry Timrod']         1828–1867   \n",
       "1417         ['By Geoffrey Hill']         1932–2016   \n",
       "\n",
       "                                             poem_title  \\\n",
       "2344                                       Lapis Lazuli   \n",
       "2106                                         Charleston   \n",
       "1417  An Apology for the Revival of Christian Archit...   \n",
       "\n",
       "                                              poem_text      form  \\\n",
       "2344  (for Harry Clifton)\\n\\nI have heard that hyste...    aubade   \n",
       "2106  Calm as that second summer which precedes\\n   ...  quatrain   \n",
       "1417  the spiritual, Platonic old England …\\nS. T. C...    sonnet   \n",
       "\n",
       "                                                   tags  \\\n",
       "2344  ['Arts & Sciences', 'Poetry & Poets', 'Mytholo...   \n",
       "2106  ['Social Commentaries', 'History & Politics', ...   \n",
       "1417  ['Religion', 'Christianity', 'Arts & Sciences'...   \n",
       "\n",
       "                                            poem_source  \\\n",
       "2344  W. B. Yeats, “Lapis Lazuli” from The Poems of ...   \n",
       "2106  Source:\\n                        “Words for th...   \n",
       "1417  Geoffrey Hill, “An Apology for the Revival of ...   \n",
       "\n",
       "                                              poem_link  ... birth_year  \\\n",
       "2344  https://www.poetryfoundation.org/poems/43297/l...  ...        NaN   \n",
       "2106  https://www.poetryfoundation.org/poems/55910/c...  ...        NaN   \n",
       "1417  https://www.poetryfoundation.org/poems/48462/a...  ...        NaN   \n",
       "\n",
       "      death_year form_tags  theme_tags occasion_tags     collected_from  \\\n",
       "2344         NaN       NaN         NaN           NaN  Poetry Foundation   \n",
       "2106         NaN       NaN         NaN           NaN  Poetry Foundation   \n",
       "1417         NaN       NaN         NaN           NaN  Poetry Foundation   \n",
       "\n",
       "     also_appears_in_poetry_foundation  \\\n",
       "2344                               NaN   \n",
       "2106                               NaN   \n",
       "1417                               NaN   \n",
       "\n",
       "                                       poem_title_lower          author_lower  \\\n",
       "2344                                       lapis lazuli  william butler yeats   \n",
       "2106                                         charleston          henry timrod   \n",
       "1417  an apology for the revival of christian archit...         geoffrey hill   \n",
       "\n",
       "        form_group  \n",
       "2344   types/modes  \n",
       "2106  stanza forms  \n",
       "1417   verse forms  \n",
       "\n",
       "[3 rows x 22 columns]"
      ]
     },
     "execution_count": 24,
     "metadata": {},
     "output_type": "execute_result"
    }
   ],
   "source": [
    "poems_df.sample(3)"
   ]
  },
  {
   "cell_type": "code",
   "execution_count": 25,
   "metadata": {},
   "outputs": [
    {
     "data": {
      "text/plain": [
       "form_group\n",
       "types/modes     1393\n",
       "verse forms     1193\n",
       "meters           708\n",
       "stanza forms     581\n",
       "Name: count, dtype: int64"
      ]
     },
     "execution_count": 25,
     "metadata": {},
     "output_type": "execute_result"
    }
   ],
   "source": [
    "poems_df['form_group'].value_counts(dropna=False)"
   ]
  },
  {
   "cell_type": "code",
   "execution_count": 26,
   "metadata": {},
   "outputs": [
    {
     "data": {
      "text/plain": [
       "Index(['messy_author', 'author', 'additional_authors', 'birth_death_dates',\n",
       "       'poem_title', 'poem_text', 'form', 'tags', 'poem_source', 'poem_link',\n",
       "       'author_link', 'pub_year', 'birth_year', 'death_year', 'form_tags',\n",
       "       'theme_tags', 'occasion_tags', 'collected_from',\n",
       "       'also_appears_in_poetry_foundation', 'poem_title_lower', 'author_lower',\n",
       "       'form_group'],\n",
       "      dtype='object')"
      ]
     },
     "execution_count": 26,
     "metadata": {},
     "output_type": "execute_result"
    }
   ],
   "source": [
    "poems_df.columns"
   ]
  },
  {
   "cell_type": "code",
   "execution_count": 31,
   "metadata": {},
   "outputs": [],
   "source": [
    "poems_df['poem_id'] = poems_df['poem_link'].apply(lambda x: '/'.join(x.split('/')[-2:]))"
   ]
  },
  {
   "cell_type": "code",
   "execution_count": 32,
   "metadata": {},
   "outputs": [
    {
     "data": {
      "text/plain": [
       "3692"
      ]
     },
     "execution_count": 32,
     "metadata": {},
     "output_type": "execute_result"
    }
   ],
   "source": [
    "len(poems_df['poem_id'].unique())"
   ]
  },
  {
   "cell_type": "code",
   "execution_count": 101,
   "metadata": {},
   "outputs": [
    {
     "data": {
      "text/plain": [
       "134459"
      ]
     },
     "execution_count": 101,
     "metadata": {},
     "output_type": "execute_result"
    }
   ],
   "source": [
    "line_dicts = []\n",
    "\n",
    "poem_dropped_dict = defaultdict(list)\n",
    "\n",
    "for i, r in poems_df.drop_duplicates(subset=['poem_id']).sample(frac=1).iterrows():\n",
    "\n",
    "    if not pd.isnull(r['poem_text']):\n",
    "\n",
    "        _lines = r['poem_text'].split('\\n')\n",
    "        \n",
    "        _line_num = 0\n",
    "\n",
    "        for _line in _lines:\n",
    "\n",
    "            if _line.strip() and len(_line.strip().split()) >= 4:\n",
    "\n",
    "                line_dicts.append({'line_id': r['poem_id'] + '_' + str(_line_num),\n",
    "                                   'poem_id': r['poem_id'],\n",
    "                                   'line_num': _line_num,\n",
    "                                   'text': _line.strip()})\n",
    "                                \n",
    "            elif _line.strip():\n",
    "\n",
    "                poem_dropped_dict[r['poem_id']].append(_line.strip())\n",
    "            \n",
    "            _line_num += 1\n",
    "            \n",
    "line_df = pd.DataFrame(line_dicts)\n",
    "len(line_df.index)"
   ]
  },
  {
   "cell_type": "code",
   "execution_count": 102,
   "metadata": {},
   "outputs": [
    {
     "data": {
      "text/plain": [
       "3684"
      ]
     },
     "execution_count": 102,
     "metadata": {},
     "output_type": "execute_result"
    }
   ],
   "source": [
    "len(line_df['poem_id'].unique())"
   ]
  },
  {
   "cell_type": "code",
   "execution_count": 103,
   "metadata": {},
   "outputs": [
    {
     "data": {
      "text/plain": [
       "(7.980225988700565, 3.0, 18.31244533606086, 398)"
      ]
     },
     "execution_count": 103,
     "metadata": {},
     "output_type": "execute_result"
    }
   ],
   "source": [
    "dropped_list = [len(_ids) for _ids in poem_dropped_dict.values()]\n",
    "\n",
    "np.mean(dropped_list), np.median(dropped_list), np.std(dropped_list), np.max(dropped_list)"
   ]
  },
  {
   "cell_type": "code",
   "execution_count": 104,
   "metadata": {},
   "outputs": [
    {
     "name": "stdout",
     "output_type": "stream",
     "text": [
      "arthritic from holding\n"
     ]
    }
   ],
   "source": [
    "for _poem, _dropped in random.sample(poem_dropped_dict.items(), 1):\n",
    "    for d in _dropped:\n",
    "        print(d) "
   ]
  },
  {
   "cell_type": "code",
   "execution_count": 105,
   "metadata": {},
   "outputs": [
    {
     "data": {
      "text/html": [
       "<div>\n",
       "<style scoped>\n",
       "    .dataframe tbody tr th:only-of-type {\n",
       "        vertical-align: middle;\n",
       "    }\n",
       "\n",
       "    .dataframe tbody tr th {\n",
       "        vertical-align: top;\n",
       "    }\n",
       "\n",
       "    .dataframe thead th {\n",
       "        text-align: right;\n",
       "    }\n",
       "</style>\n",
       "<table border=\"1\" class=\"dataframe\">\n",
       "  <thead>\n",
       "    <tr style=\"text-align: right;\">\n",
       "      <th></th>\n",
       "      <th>line_id</th>\n",
       "      <th>poem_id</th>\n",
       "      <th>line_num</th>\n",
       "      <th>text</th>\n",
       "    </tr>\n",
       "  </thead>\n",
       "  <tbody>\n",
       "    <tr>\n",
       "      <th>0</th>\n",
       "      <td>poem/time-sensitive_0</td>\n",
       "      <td>poem/time-sensitive</td>\n",
       "      <td>0</td>\n",
       "      <td>When the tyrant’s voice comes on the car radio...</td>\n",
       "    </tr>\n",
       "    <tr>\n",
       "      <th>1</th>\n",
       "      <td>poem/time-sensitive_2</td>\n",
       "      <td>poem/time-sensitive</td>\n",
       "      <td>2</td>\n",
       "      <td>Every morning, I stretch, put food in my throa...</td>\n",
       "    </tr>\n",
       "    <tr>\n",
       "      <th>2</th>\n",
       "      <td>poem/time-sensitive_4</td>\n",
       "      <td>poem/time-sensitive</td>\n",
       "      <td>4</td>\n",
       "      <td>At night, I sit down to watch last year’s exti...</td>\n",
       "    </tr>\n",
       "  </tbody>\n",
       "</table>\n",
       "</div>"
      ],
      "text/plain": [
       "                 line_id              poem_id  line_num  \\\n",
       "0  poem/time-sensitive_0  poem/time-sensitive         0   \n",
       "1  poem/time-sensitive_2  poem/time-sensitive         2   \n",
       "2  poem/time-sensitive_4  poem/time-sensitive         4   \n",
       "\n",
       "                                                text  \n",
       "0  When the tyrant’s voice comes on the car radio...  \n",
       "1  Every morning, I stretch, put food in my throa...  \n",
       "2  At night, I sit down to watch last year’s exti...  "
      ]
     },
     "execution_count": 105,
     "metadata": {},
     "output_type": "execute_result"
    }
   ],
   "source": [
    "line_df.head(3)"
   ]
  },
  {
   "cell_type": "code",
   "execution_count": 106,
   "metadata": {},
   "outputs": [],
   "source": [
    "# line_df.to_csv('') # Don't re-run because it will shuffle!"
   ]
  },
  {
   "cell_type": "code",
   "execution_count": 107,
   "metadata": {},
   "outputs": [
    {
     "data": {
      "text/plain": [
       "134459"
      ]
     },
     "execution_count": 107,
     "metadata": {},
     "output_type": "execute_result"
    }
   ],
   "source": [
    "len(line_df.index)"
   ]
  },
  {
   "cell_type": "markdown",
   "metadata": {},
   "source": [
    "## **Run queries!**"
   ]
  },
  {
   "cell_type": "code",
   "execution_count": 4,
   "metadata": {},
   "outputs": [
    {
     "data": {
      "text/plain": [
       "134459"
      ]
     },
     "execution_count": 4,
     "metadata": {},
     "output_type": "execute_result"
    }
   ],
   "source": [
    "line_df = pd.read_csv('')\n",
    "len(line_df.index)"
   ]
  },
  {
   "cell_type": "code",
   "execution_count": 5,
   "metadata": {},
   "outputs": [
    {
     "data": {
      "text/plain": [
       "(8.440625023241285, 7.0, 14.027444228161551, 4, 1678)"
      ]
     },
     "execution_count": 5,
     "metadata": {},
     "output_type": "execute_result"
    }
   ],
   "source": [
    "line_lengths = [len(r['text'].split()) for i, r in line_df.iterrows()]\n",
    "\n",
    "np.mean(line_lengths), np.median(line_lengths), np.std(line_lengths), np.min(line_lengths), np.max(line_lengths)"
   ]
  },
  {
   "cell_type": "code",
   "execution_count": 7,
   "metadata": {},
   "outputs": [],
   "source": [
    "output_directory_path = ''\n",
    "\n",
    "df_list = np.array_split(line_df, 10000)\n",
    "\n",
    "for j, _df in enumerate(df_list):\n",
    "\n",
    "    if not os.path.exists(output_directory_path + '/wimbd_results.' + str(j) + '.csv'):\n",
    "\n",
    "        print(datetime.now(), '\\t', j, '\\t', len(_df.index))\n",
    "\n",
    "        _output_dicts = []\n",
    "        for i, r in _df.iterrows():\n",
    "            \n",
    "            _query_text = ' '.join(r['text'].split()[:20])\n",
    "            \n",
    "            try:\n",
    "                for d in get_documents_containing_phrases('docs_v1.5_2023-11-02', [_query_text]):\n",
    "                    d['poem_id'] = r['poem_id']\n",
    "                    d['line_num'] = r['line_num']\n",
    "                    d['line_id'] = r['line_id']\n",
    "                    # d['queried_text'] = _query_text\n",
    "                    _output_dicts.append(d)\n",
    "            except:\n",
    "                print(_query_text)\n",
    "\n",
    "        _output_df = pd.DataFrame(_output_dicts)\n",
    "        _output_df.to_csv(output_directory_path + '/wimbd_results.' + str(j) + '.csv')"
   ]
  },
  {
   "cell_type": "code",
   "execution_count": 110,
   "metadata": {},
   "outputs": [
    {
     "data": {
      "text/plain": [
       "417"
      ]
     },
     "execution_count": 110,
     "metadata": {},
     "output_type": "execute_result"
    }
   ],
   "source": [
    "results_df = pd.read_csv('')\n",
    "len(results_df.index)"
   ]
  },
  {
   "cell_type": "code",
   "execution_count": 111,
   "metadata": {},
   "outputs": [
    {
     "data": {
      "text/html": [
       "<div>\n",
       "<style scoped>\n",
       "    .dataframe tbody tr th:only-of-type {\n",
       "        vertical-align: middle;\n",
       "    }\n",
       "\n",
       "    .dataframe tbody tr th {\n",
       "        vertical-align: top;\n",
       "    }\n",
       "\n",
       "    .dataframe thead th {\n",
       "        text-align: right;\n",
       "    }\n",
       "</style>\n",
       "<table border=\"1\" class=\"dataframe\">\n",
       "  <thead>\n",
       "    <tr style=\"text-align: right;\">\n",
       "      <th></th>\n",
       "      <th>Unnamed: 0</th>\n",
       "      <th>_index</th>\n",
       "      <th>_id</th>\n",
       "      <th>_score</th>\n",
       "      <th>_source</th>\n",
       "      <th>poem_id</th>\n",
       "      <th>line_num</th>\n",
       "      <th>line_id</th>\n",
       "    </tr>\n",
       "  </thead>\n",
       "  <tbody>\n",
       "    <tr>\n",
       "      <th>311</th>\n",
       "      <td>311</td>\n",
       "      <td>docs_v1.5_2023-11-02</td>\n",
       "      <td>1bcec670957e904e246ed6b41ded6e78</td>\n",
       "      <td>19.774265</td>\n",
       "      <td>{'id': '1bcec670957e904e246ed6b41ded6e78', 'do...</td>\n",
       "      <td>poem/listening-0</td>\n",
       "      <td>0</td>\n",
       "      <td>poem/listening-0_0</td>\n",
       "    </tr>\n",
       "    <tr>\n",
       "      <th>90</th>\n",
       "      <td>90</td>\n",
       "      <td>docs_v1.5_2023-11-02</td>\n",
       "      <td>1d37cf77548e6dd3e5139e478a514a26</td>\n",
       "      <td>27.505978</td>\n",
       "      <td>{'id': '1d37cf77548e6dd3e5139e478a514a26', 'do...</td>\n",
       "      <td>poem/clothes</td>\n",
       "      <td>7</td>\n",
       "      <td>poem/clothes_7</td>\n",
       "    </tr>\n",
       "    <tr>\n",
       "      <th>335</th>\n",
       "      <td>335</td>\n",
       "      <td>docs_v1.5_2023-11-02</td>\n",
       "      <td>257d21acba102355998545379aebb989</td>\n",
       "      <td>0.699776</td>\n",
       "      <td>{'id': '257d21acba102355998545379aebb989', 'do...</td>\n",
       "      <td>poem/listening-0</td>\n",
       "      <td>2</td>\n",
       "      <td>poem/listening-0_2</td>\n",
       "    </tr>\n",
       "  </tbody>\n",
       "</table>\n",
       "</div>"
      ],
      "text/plain": [
       "     Unnamed: 0                _index                               _id  \\\n",
       "311         311  docs_v1.5_2023-11-02  1bcec670957e904e246ed6b41ded6e78   \n",
       "90           90  docs_v1.5_2023-11-02  1d37cf77548e6dd3e5139e478a514a26   \n",
       "335         335  docs_v1.5_2023-11-02  257d21acba102355998545379aebb989   \n",
       "\n",
       "        _score                                            _source  \\\n",
       "311  19.774265  {'id': '1bcec670957e904e246ed6b41ded6e78', 'do...   \n",
       "90   27.505978  {'id': '1d37cf77548e6dd3e5139e478a514a26', 'do...   \n",
       "335   0.699776  {'id': '257d21acba102355998545379aebb989', 'do...   \n",
       "\n",
       "              poem_id  line_num             line_id  \n",
       "311  poem/listening-0         0  poem/listening-0_0  \n",
       "90       poem/clothes         7      poem/clothes_7  \n",
       "335  poem/listening-0         2  poem/listening-0_2  "
      ]
     },
     "execution_count": 111,
     "metadata": {},
     "output_type": "execute_result"
    }
   ],
   "source": [
    "results_df.sample(3)"
   ]
  },
  {
   "cell_type": "code",
   "execution_count": 112,
   "metadata": {},
   "outputs": [
    {
     "data": {
      "text/plain": [
       "poem_id\n",
       "poem/clothes                          120\n",
       "44194/the-debt-56d22331136b0          110\n",
       "poem/listening-0                       93\n",
       "poem/lines-skull                       33\n",
       "poem/all-about-you                     30\n",
       "57697/enlightenment-56d23b7175cc0      18\n",
       "poem/three-demons-sanki-series-i-0     10\n",
       "51516/sad-wine-i                        3\n",
       "Name: count, dtype: int64"
      ]
     },
     "execution_count": 112,
     "metadata": {},
     "output_type": "execute_result"
    }
   ],
   "source": [
    "results_df['poem_id'].value_counts()"
   ]
  },
  {
   "cell_type": "code",
   "execution_count": null,
   "metadata": {},
   "outputs": [],
   "source": []
  }
 ],
 "metadata": {
  "kernelspec": {
   "display_name": "wimbd",
   "language": "python",
   "name": "python3"
  },
  "language_info": {
   "codemirror_mode": {
    "name": "ipython",
    "version": 3
   },
   "file_extension": ".py",
   "mimetype": "text/x-python",
   "name": "python",
   "nbconvert_exporter": "python",
   "pygments_lexer": "ipython3",
   "version": "3.9.19"
  }
 },
 "nbformat": 4,
 "nbformat_minor": 2
}
